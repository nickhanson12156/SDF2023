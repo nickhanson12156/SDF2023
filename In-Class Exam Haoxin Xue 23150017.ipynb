{
 "cells": [
  {
   "cell_type": "markdown",
   "id": "8bbf6b5d",
   "metadata": {},
   "source": [
    "# In class Exam"
   ]
  },
  {
   "cell_type": "markdown",
   "id": "08dd3f04",
   "metadata": {},
   "source": [
    "## Question 1 Stock Analysis Using Python"
   ]
  },
  {
   "cell_type": "code",
   "execution_count": 46,
   "id": "7803c17b",
   "metadata": {},
   "outputs": [],
   "source": [
    "#import critical python library\n",
    "import numpy as np\n",
    "import pandas as pd\n",
    "import yfinance as yf\n",
    "import yesg\n",
    "import matplotlib.pyplot as plt"
   ]
  },
  {
   "cell_type": "markdown",
   "id": "125ce64a",
   "metadata": {},
   "source": [
    "### 1.Download Monthly Stock Price Data"
   ]
  },
  {
   "cell_type": "markdown",
   "id": "8db62bd7",
   "metadata": {},
   "source": [
    "#### My surname is Xue, so I should choose Exxon Mobil Corp. The symbol is \"XOM\"."
   ]
  },
  {
   "cell_type": "code",
   "execution_count": 7,
   "id": "ba8e50d7",
   "metadata": {},
   "outputs": [
    {
     "name": "stdout",
     "output_type": "stream",
     "text": [
      "[*********************100%%**********************]  1 of 1 completed\n"
     ]
    }
   ],
   "source": [
    "# specifying interval to 1mo representing 1 month can get monthly data\n",
    "data=yf.download(\"XOM\", start=\"2015-01-01\",end=\"2019-12-31\",interval=\"1mo\")"
   ]
  },
  {
   "cell_type": "code",
   "execution_count": 8,
   "id": "cf3e7e84",
   "metadata": {
    "scrolled": true
   },
   "outputs": [
    {
     "data": {
      "text/html": [
       "<div>\n",
       "<style scoped>\n",
       "    .dataframe tbody tr th:only-of-type {\n",
       "        vertical-align: middle;\n",
       "    }\n",
       "\n",
       "    .dataframe tbody tr th {\n",
       "        vertical-align: top;\n",
       "    }\n",
       "\n",
       "    .dataframe thead th {\n",
       "        text-align: right;\n",
       "    }\n",
       "</style>\n",
       "<table border=\"1\" class=\"dataframe\">\n",
       "  <thead>\n",
       "    <tr style=\"text-align: right;\">\n",
       "      <th></th>\n",
       "      <th>Open</th>\n",
       "      <th>High</th>\n",
       "      <th>Low</th>\n",
       "      <th>Close</th>\n",
       "      <th>Adj Close</th>\n",
       "      <th>Volume</th>\n",
       "    </tr>\n",
       "    <tr>\n",
       "      <th>Date</th>\n",
       "      <th></th>\n",
       "      <th></th>\n",
       "      <th></th>\n",
       "      <th></th>\n",
       "      <th></th>\n",
       "      <th></th>\n",
       "    </tr>\n",
       "  </thead>\n",
       "  <tbody>\n",
       "    <tr>\n",
       "      <th>2015-01-01</th>\n",
       "      <td>92.250000</td>\n",
       "      <td>93.050003</td>\n",
       "      <td>86.029999</td>\n",
       "      <td>87.419998</td>\n",
       "      <td>58.472134</td>\n",
       "      <td>326819500</td>\n",
       "    </tr>\n",
       "    <tr>\n",
       "      <th>2015-02-01</th>\n",
       "      <td>87.849998</td>\n",
       "      <td>93.449997</td>\n",
       "      <td>87.500000</td>\n",
       "      <td>88.540001</td>\n",
       "      <td>59.221252</td>\n",
       "      <td>276447700</td>\n",
       "    </tr>\n",
       "    <tr>\n",
       "      <th>2015-03-01</th>\n",
       "      <td>88.339996</td>\n",
       "      <td>88.519997</td>\n",
       "      <td>82.680000</td>\n",
       "      <td>85.000000</td>\n",
       "      <td>57.281403</td>\n",
       "      <td>330260500</td>\n",
       "    </tr>\n",
       "    <tr>\n",
       "      <th>2015-04-01</th>\n",
       "      <td>85.699997</td>\n",
       "      <td>88.669998</td>\n",
       "      <td>83.809998</td>\n",
       "      <td>87.370003</td>\n",
       "      <td>58.878525</td>\n",
       "      <td>251671200</td>\n",
       "    </tr>\n",
       "    <tr>\n",
       "      <th>2015-05-01</th>\n",
       "      <td>87.849998</td>\n",
       "      <td>90.089996</td>\n",
       "      <td>84.769997</td>\n",
       "      <td>85.199997</td>\n",
       "      <td>57.416161</td>\n",
       "      <td>198924100</td>\n",
       "    </tr>\n",
       "  </tbody>\n",
       "</table>\n",
       "</div>"
      ],
      "text/plain": [
       "                 Open       High        Low      Close  Adj Close     Volume\n",
       "Date                                                                        \n",
       "2015-01-01  92.250000  93.050003  86.029999  87.419998  58.472134  326819500\n",
       "2015-02-01  87.849998  93.449997  87.500000  88.540001  59.221252  276447700\n",
       "2015-03-01  88.339996  88.519997  82.680000  85.000000  57.281403  330260500\n",
       "2015-04-01  85.699997  88.669998  83.809998  87.370003  58.878525  251671200\n",
       "2015-05-01  87.849998  90.089996  84.769997  85.199997  57.416161  198924100"
      ]
     },
     "execution_count": 8,
     "metadata": {},
     "output_type": "execute_result"
    }
   ],
   "source": [
    "#take a look at the data\n",
    "data.head()"
   ]
  },
  {
   "cell_type": "markdown",
   "id": "5120ee93",
   "metadata": {},
   "source": [
    "### 2. Calculating Monthly Log Returns and Annualized Return."
   ]
  },
  {
   "cell_type": "code",
   "execution_count": 9,
   "id": "bb01771b",
   "metadata": {},
   "outputs": [],
   "source": [
    "# calculate log returns\n",
    "data[\"Monthly_Log_Return\"]=np.log(data[\"Adj Close\"]/data[\"Adj Close\"].shift(1))"
   ]
  },
  {
   "cell_type": "code",
   "execution_count": 10,
   "id": "526fec40",
   "metadata": {},
   "outputs": [],
   "source": [
    "# calculate the annualized return by multiply the average monthly log return by 12.\n",
    "annualized_return=data[\"Monthly_Log_Return\"].mean()*12"
   ]
  },
  {
   "cell_type": "code",
   "execution_count": 11,
   "id": "292be8b8",
   "metadata": {},
   "outputs": [
    {
     "name": "stdout",
     "output_type": "stream",
     "text": [
      "Annualized Return: -0.65%\n"
     ]
    }
   ],
   "source": [
    "print(f\"Annualized Return: {annualized_return*100:.2f}%\")"
   ]
  },
  {
   "cell_type": "markdown",
   "id": "e16012ed",
   "metadata": {},
   "source": [
    "### 3.Calculate Annualised Volatility"
   ]
  },
  {
   "cell_type": "code",
   "execution_count": 14,
   "id": "7d56c058",
   "metadata": {},
   "outputs": [],
   "source": [
    "#calculate the annualized volatility by multiply the monthly volatility by square root of 12\n",
    "annualized_volatility=data[\"Monthly_Log_Return\"].std()*np.sqrt(12)"
   ]
  },
  {
   "cell_type": "code",
   "execution_count": 15,
   "id": "0e12ea5b",
   "metadata": {},
   "outputs": [
    {
     "name": "stdout",
     "output_type": "stream",
     "text": [
      "Annualized Volatility:18.34%\n"
     ]
    }
   ],
   "source": [
    "print(f\"Annualized Volatility:{annualized_volatility*100:.2f}%\")"
   ]
  },
  {
   "cell_type": "markdown",
   "id": "c46a586a",
   "metadata": {},
   "source": [
    "### 4. Download ESG Data and Handle Missing Values."
   ]
  },
  {
   "cell_type": "markdown",
   "id": "140e68aa",
   "metadata": {},
   "source": [
    "#### Download ESG data for this stock within the same timeframe"
   ]
  },
  {
   "cell_type": "code",
   "execution_count": 24,
   "id": "7ac2a251",
   "metadata": {},
   "outputs": [],
   "source": [
    "esg=yesg.get_historic_esg(\"XOM\")"
   ]
  },
  {
   "cell_type": "code",
   "execution_count": 27,
   "id": "7e6416b8",
   "metadata": {},
   "outputs": [
    {
     "data": {
      "text/html": [
       "<div>\n",
       "<style scoped>\n",
       "    .dataframe tbody tr th:only-of-type {\n",
       "        vertical-align: middle;\n",
       "    }\n",
       "\n",
       "    .dataframe tbody tr th {\n",
       "        vertical-align: top;\n",
       "    }\n",
       "\n",
       "    .dataframe thead th {\n",
       "        text-align: right;\n",
       "    }\n",
       "</style>\n",
       "<table border=\"1\" class=\"dataframe\">\n",
       "  <thead>\n",
       "    <tr style=\"text-align: right;\">\n",
       "      <th></th>\n",
       "      <th>Total-Score</th>\n",
       "      <th>E-Score</th>\n",
       "      <th>S-Score</th>\n",
       "      <th>G-Score</th>\n",
       "      <th>number</th>\n",
       "    </tr>\n",
       "    <tr>\n",
       "      <th>Date</th>\n",
       "      <th></th>\n",
       "      <th></th>\n",
       "      <th></th>\n",
       "      <th></th>\n",
       "      <th></th>\n",
       "    </tr>\n",
       "  </thead>\n",
       "  <tbody>\n",
       "    <tr>\n",
       "      <th>2014-09-01</th>\n",
       "      <td>66.0</td>\n",
       "      <td>51.0</td>\n",
       "      <td>76.0</td>\n",
       "      <td>69.0</td>\n",
       "      <td>0</td>\n",
       "    </tr>\n",
       "    <tr>\n",
       "      <th>2014-10-01</th>\n",
       "      <td>65.0</td>\n",
       "      <td>51.0</td>\n",
       "      <td>76.0</td>\n",
       "      <td>69.0</td>\n",
       "      <td>1</td>\n",
       "    </tr>\n",
       "    <tr>\n",
       "      <th>2014-11-01</th>\n",
       "      <td>66.0</td>\n",
       "      <td>51.0</td>\n",
       "      <td>76.0</td>\n",
       "      <td>69.0</td>\n",
       "      <td>2</td>\n",
       "    </tr>\n",
       "    <tr>\n",
       "      <th>2014-12-01</th>\n",
       "      <td>66.0</td>\n",
       "      <td>51.0</td>\n",
       "      <td>76.0</td>\n",
       "      <td>69.0</td>\n",
       "      <td>3</td>\n",
       "    </tr>\n",
       "    <tr>\n",
       "      <th>2015-01-01</th>\n",
       "      <td>65.0</td>\n",
       "      <td>51.0</td>\n",
       "      <td>73.0</td>\n",
       "      <td>69.0</td>\n",
       "      <td>4</td>\n",
       "    </tr>\n",
       "  </tbody>\n",
       "</table>\n",
       "</div>"
      ],
      "text/plain": [
       "            Total-Score  E-Score  S-Score  G-Score  number\n",
       "Date                                                      \n",
       "2014-09-01         66.0     51.0     76.0     69.0       0\n",
       "2014-10-01         65.0     51.0     76.0     69.0       1\n",
       "2014-11-01         66.0     51.0     76.0     69.0       2\n",
       "2014-12-01         66.0     51.0     76.0     69.0       3\n",
       "2015-01-01         65.0     51.0     73.0     69.0       4"
      ]
     },
     "execution_count": 27,
     "metadata": {},
     "output_type": "execute_result"
    }
   ],
   "source": [
    "#take a look at the data\n",
    "esg.head()"
   ]
  },
  {
   "cell_type": "code",
   "execution_count": 29,
   "id": "317e30e8",
   "metadata": {
    "scrolled": true
   },
   "outputs": [
    {
     "data": {
      "text/html": [
       "<div>\n",
       "<style scoped>\n",
       "    .dataframe tbody tr th:only-of-type {\n",
       "        vertical-align: middle;\n",
       "    }\n",
       "\n",
       "    .dataframe tbody tr th {\n",
       "        vertical-align: top;\n",
       "    }\n",
       "\n",
       "    .dataframe thead th {\n",
       "        text-align: right;\n",
       "    }\n",
       "</style>\n",
       "<table border=\"1\" class=\"dataframe\">\n",
       "  <thead>\n",
       "    <tr style=\"text-align: right;\">\n",
       "      <th></th>\n",
       "      <th>Total-Score</th>\n",
       "      <th>E-Score</th>\n",
       "      <th>S-Score</th>\n",
       "      <th>G-Score</th>\n",
       "      <th>number</th>\n",
       "    </tr>\n",
       "    <tr>\n",
       "      <th>Date</th>\n",
       "      <th></th>\n",
       "      <th></th>\n",
       "      <th></th>\n",
       "      <th></th>\n",
       "      <th></th>\n",
       "    </tr>\n",
       "  </thead>\n",
       "  <tbody>\n",
       "    <tr>\n",
       "      <th>2014-09-01</th>\n",
       "      <td>66.0</td>\n",
       "      <td>51.0</td>\n",
       "      <td>76.0</td>\n",
       "      <td>69.0</td>\n",
       "      <td>0</td>\n",
       "    </tr>\n",
       "    <tr>\n",
       "      <th>2014-10-01</th>\n",
       "      <td>65.0</td>\n",
       "      <td>51.0</td>\n",
       "      <td>76.0</td>\n",
       "      <td>69.0</td>\n",
       "      <td>1</td>\n",
       "    </tr>\n",
       "    <tr>\n",
       "      <th>2014-11-01</th>\n",
       "      <td>66.0</td>\n",
       "      <td>51.0</td>\n",
       "      <td>76.0</td>\n",
       "      <td>69.0</td>\n",
       "      <td>2</td>\n",
       "    </tr>\n",
       "    <tr>\n",
       "      <th>2014-12-01</th>\n",
       "      <td>66.0</td>\n",
       "      <td>51.0</td>\n",
       "      <td>76.0</td>\n",
       "      <td>69.0</td>\n",
       "      <td>3</td>\n",
       "    </tr>\n",
       "    <tr>\n",
       "      <th>2015-01-01</th>\n",
       "      <td>65.0</td>\n",
       "      <td>51.0</td>\n",
       "      <td>73.0</td>\n",
       "      <td>69.0</td>\n",
       "      <td>4</td>\n",
       "    </tr>\n",
       "  </tbody>\n",
       "</table>\n",
       "</div>"
      ],
      "text/plain": [
       "            Total-Score  E-Score  S-Score  G-Score  number\n",
       "Date                                                      \n",
       "2014-09-01         66.0     51.0     76.0     69.0       0\n",
       "2014-10-01         65.0     51.0     76.0     69.0       1\n",
       "2014-11-01         66.0     51.0     76.0     69.0       2\n",
       "2014-12-01         66.0     51.0     76.0     69.0       3\n",
       "2015-01-01         65.0     51.0     73.0     69.0       4"
      ]
     },
     "execution_count": 29,
     "metadata": {},
     "output_type": "execute_result"
    }
   ],
   "source": [
    "#get the exact same time period\n",
    "esg[\"number\"]=np.arange((len(esg[\"Total-Score\"]))) #generate a number column for knowing the exact rows of needed time period\n",
    "esg.head()"
   ]
  },
  {
   "cell_type": "code",
   "execution_count": 33,
   "id": "175bccff",
   "metadata": {
    "scrolled": true
   },
   "outputs": [
    {
     "data": {
      "text/plain": [
       "Total-Score    37.46\n",
       "E-Score        18.64\n",
       "S-Score        10.16\n",
       "G-Score         8.65\n",
       "number         63.00\n",
       "Name: 2019-12-01 00:00:00, dtype: float64"
      ]
     },
     "execution_count": 33,
     "metadata": {},
     "output_type": "execute_result"
    }
   ],
   "source": [
    "#check the row of the esg data for the last wanted time 2019-12-31 (should be the first date of December in the esg dataset)\n",
    "row=esg.loc[\"2019-12-01\"]\n",
    "row"
   ]
  },
  {
   "cell_type": "code",
   "execution_count": 41,
   "id": "f5320038",
   "metadata": {
    "scrolled": false
   },
   "outputs": [],
   "source": [
    "esgdata=esg.iloc[4:64] # get the wanted same time period"
   ]
  },
  {
   "cell_type": "code",
   "execution_count": 42,
   "id": "50853b9e",
   "metadata": {},
   "outputs": [
    {
     "data": {
      "text/html": [
       "<div>\n",
       "<style scoped>\n",
       "    .dataframe tbody tr th:only-of-type {\n",
       "        vertical-align: middle;\n",
       "    }\n",
       "\n",
       "    .dataframe tbody tr th {\n",
       "        vertical-align: top;\n",
       "    }\n",
       "\n",
       "    .dataframe thead th {\n",
       "        text-align: right;\n",
       "    }\n",
       "</style>\n",
       "<table border=\"1\" class=\"dataframe\">\n",
       "  <thead>\n",
       "    <tr style=\"text-align: right;\">\n",
       "      <th></th>\n",
       "      <th>Total-Score</th>\n",
       "      <th>E-Score</th>\n",
       "      <th>S-Score</th>\n",
       "      <th>G-Score</th>\n",
       "      <th>number</th>\n",
       "    </tr>\n",
       "    <tr>\n",
       "      <th>Date</th>\n",
       "      <th></th>\n",
       "      <th></th>\n",
       "      <th></th>\n",
       "      <th></th>\n",
       "      <th></th>\n",
       "    </tr>\n",
       "  </thead>\n",
       "  <tbody>\n",
       "    <tr>\n",
       "      <th>2015-01-01</th>\n",
       "      <td>65.0</td>\n",
       "      <td>51.0</td>\n",
       "      <td>73.0</td>\n",
       "      <td>69.0</td>\n",
       "      <td>4</td>\n",
       "    </tr>\n",
       "    <tr>\n",
       "      <th>2015-02-01</th>\n",
       "      <td>65.0</td>\n",
       "      <td>51.0</td>\n",
       "      <td>73.0</td>\n",
       "      <td>69.0</td>\n",
       "      <td>5</td>\n",
       "    </tr>\n",
       "    <tr>\n",
       "      <th>2015-03-01</th>\n",
       "      <td>65.0</td>\n",
       "      <td>51.0</td>\n",
       "      <td>73.0</td>\n",
       "      <td>69.0</td>\n",
       "      <td>6</td>\n",
       "    </tr>\n",
       "    <tr>\n",
       "      <th>2015-04-01</th>\n",
       "      <td>65.0</td>\n",
       "      <td>51.0</td>\n",
       "      <td>73.0</td>\n",
       "      <td>69.0</td>\n",
       "      <td>7</td>\n",
       "    </tr>\n",
       "    <tr>\n",
       "      <th>2015-05-01</th>\n",
       "      <td>65.0</td>\n",
       "      <td>51.0</td>\n",
       "      <td>73.0</td>\n",
       "      <td>69.0</td>\n",
       "      <td>8</td>\n",
       "    </tr>\n",
       "  </tbody>\n",
       "</table>\n",
       "</div>"
      ],
      "text/plain": [
       "            Total-Score  E-Score  S-Score  G-Score  number\n",
       "Date                                                      \n",
       "2015-01-01         65.0     51.0     73.0     69.0       4\n",
       "2015-02-01         65.0     51.0     73.0     69.0       5\n",
       "2015-03-01         65.0     51.0     73.0     69.0       6\n",
       "2015-04-01         65.0     51.0     73.0     69.0       7\n",
       "2015-05-01         65.0     51.0     73.0     69.0       8"
      ]
     },
     "execution_count": 42,
     "metadata": {},
     "output_type": "execute_result"
    }
   ],
   "source": [
    "#take a look\n",
    "esgdata.head()"
   ]
  },
  {
   "cell_type": "code",
   "execution_count": 43,
   "id": "d242cd57",
   "metadata": {
    "scrolled": true
   },
   "outputs": [
    {
     "data": {
      "text/html": [
       "<div>\n",
       "<style scoped>\n",
       "    .dataframe tbody tr th:only-of-type {\n",
       "        vertical-align: middle;\n",
       "    }\n",
       "\n",
       "    .dataframe tbody tr th {\n",
       "        vertical-align: top;\n",
       "    }\n",
       "\n",
       "    .dataframe thead th {\n",
       "        text-align: right;\n",
       "    }\n",
       "</style>\n",
       "<table border=\"1\" class=\"dataframe\">\n",
       "  <thead>\n",
       "    <tr style=\"text-align: right;\">\n",
       "      <th></th>\n",
       "      <th>Total-Score</th>\n",
       "      <th>E-Score</th>\n",
       "      <th>S-Score</th>\n",
       "      <th>G-Score</th>\n",
       "      <th>number</th>\n",
       "    </tr>\n",
       "    <tr>\n",
       "      <th>Date</th>\n",
       "      <th></th>\n",
       "      <th></th>\n",
       "      <th></th>\n",
       "      <th></th>\n",
       "      <th></th>\n",
       "    </tr>\n",
       "  </thead>\n",
       "  <tbody>\n",
       "    <tr>\n",
       "      <th>2019-08-01</th>\n",
       "      <td>63.97</td>\n",
       "      <td>54.90</td>\n",
       "      <td>75.36</td>\n",
       "      <td>58.42</td>\n",
       "      <td>59</td>\n",
       "    </tr>\n",
       "    <tr>\n",
       "      <th>2019-09-01</th>\n",
       "      <td>63.97</td>\n",
       "      <td>54.90</td>\n",
       "      <td>75.36</td>\n",
       "      <td>58.42</td>\n",
       "      <td>60</td>\n",
       "    </tr>\n",
       "    <tr>\n",
       "      <th>2019-10-01</th>\n",
       "      <td>63.97</td>\n",
       "      <td>54.90</td>\n",
       "      <td>75.36</td>\n",
       "      <td>58.42</td>\n",
       "      <td>61</td>\n",
       "    </tr>\n",
       "    <tr>\n",
       "      <th>2019-11-01</th>\n",
       "      <td>63.65</td>\n",
       "      <td>54.90</td>\n",
       "      <td>75.36</td>\n",
       "      <td>57.14</td>\n",
       "      <td>62</td>\n",
       "    </tr>\n",
       "    <tr>\n",
       "      <th>2019-12-01</th>\n",
       "      <td>37.46</td>\n",
       "      <td>18.64</td>\n",
       "      <td>10.16</td>\n",
       "      <td>8.65</td>\n",
       "      <td>63</td>\n",
       "    </tr>\n",
       "  </tbody>\n",
       "</table>\n",
       "</div>"
      ],
      "text/plain": [
       "            Total-Score  E-Score  S-Score  G-Score  number\n",
       "Date                                                      \n",
       "2019-08-01        63.97    54.90    75.36    58.42      59\n",
       "2019-09-01        63.97    54.90    75.36    58.42      60\n",
       "2019-10-01        63.97    54.90    75.36    58.42      61\n",
       "2019-11-01        63.65    54.90    75.36    57.14      62\n",
       "2019-12-01        37.46    18.64    10.16     8.65      63"
      ]
     },
     "execution_count": 43,
     "metadata": {},
     "output_type": "execute_result"
    }
   ],
   "source": [
    "esgdata.tail()"
   ]
  },
  {
   "cell_type": "markdown",
   "id": "b68030a3",
   "metadata": {},
   "source": [
    "#### handle missing value"
   ]
  },
  {
   "cell_type": "code",
   "execution_count": 45,
   "id": "ee1830e8",
   "metadata": {
    "scrolled": false
   },
   "outputs": [
    {
     "name": "stdout",
     "output_type": "stream",
     "text": [
      "Total-Score    False\n",
      "E-Score        False\n",
      "S-Score        False\n",
      "G-Score        False\n",
      "number         False\n",
      "dtype: bool\n"
     ]
    }
   ],
   "source": [
    "# check if their are any missing value\n",
    "print(esgdata.isnull().any())"
   ]
  },
  {
   "cell_type": "markdown",
   "id": "6fc8597b",
   "metadata": {},
   "source": [
    "#### This mean there is no missing value, no need to handle it anymore."
   ]
  },
  {
   "cell_type": "code",
   "execution_count": 48,
   "id": "d0a8e8c0",
   "metadata": {
    "scrolled": true
   },
   "outputs": [
    {
     "data": {
      "text/plain": [
       "Date\n",
       "2015-01-01    65.00\n",
       "2015-02-01    65.00\n",
       "2015-03-01    65.00\n",
       "2015-04-01    65.00\n",
       "2015-05-01    65.00\n",
       "2015-06-01    65.00\n",
       "2015-07-01    65.00\n",
       "2015-08-01    65.00\n",
       "2015-09-01    65.00\n",
       "2015-10-01    64.00\n",
       "2015-11-01    67.00\n",
       "2015-12-01    67.00\n",
       "2016-01-01    64.30\n",
       "2016-02-01    64.30\n",
       "2016-03-01    64.30\n",
       "2016-04-01    65.32\n",
       "2016-05-01    64.75\n",
       "2016-06-01    64.49\n",
       "2016-07-01    64.49\n",
       "2016-08-01    64.49\n",
       "2016-09-01    64.52\n",
       "2016-10-01    64.52\n",
       "2016-11-01    63.76\n",
       "2016-12-01    63.76\n",
       "2017-01-01    63.76\n",
       "2017-02-01    63.76\n",
       "2017-03-01    64.15\n",
       "2017-04-01    64.15\n",
       "2017-05-01    64.15\n",
       "2017-06-01    64.15\n",
       "2017-07-01    64.15\n",
       "2017-08-01    64.15\n",
       "2017-09-01    64.15\n",
       "2017-10-01    62.91\n",
       "2017-11-01    62.91\n",
       "2017-12-01    62.90\n",
       "2018-01-01    62.90\n",
       "2018-02-01    62.61\n",
       "2018-03-01    62.61\n",
       "2018-04-01    64.11\n",
       "2018-05-01    64.11\n",
       "2018-06-01    64.11\n",
       "2018-07-01    64.11\n",
       "2018-08-01    64.11\n",
       "2018-09-01    63.97\n",
       "2018-10-01    63.97\n",
       "2018-11-01    63.97\n",
       "2018-12-01    63.97\n",
       "2019-01-01    63.97\n",
       "2019-02-01    63.97\n",
       "2019-03-01    63.97\n",
       "2019-04-01    63.97\n",
       "2019-05-01    63.97\n",
       "2019-06-01    63.97\n",
       "2019-07-01    63.97\n",
       "2019-08-01    63.97\n",
       "2019-09-01    63.97\n",
       "2019-10-01    63.97\n",
       "2019-11-01    63.65\n",
       "2019-12-01    37.46\n",
       "Name: Total-Score, dtype: float64"
      ]
     },
     "execution_count": 48,
     "metadata": {},
     "output_type": "execute_result"
    }
   ],
   "source": [
    "#get the ESG Total Score data\n",
    "esgtotalscore=esgdata[\"Total-Score\"]\n",
    "esgtotalscore"
   ]
  },
  {
   "cell_type": "markdown",
   "id": "b182c87c",
   "metadata": {},
   "source": [
    "#### Plot the figure"
   ]
  },
  {
   "cell_type": "code",
   "execution_count": 51,
   "id": "5a69ff17",
   "metadata": {
    "scrolled": true
   },
   "outputs": [
    {
     "data": {
      "image/png": "[encoded data removed]",
      "text/plain": [
       "<Figure size 1000x600 with 1 Axes>"
      ]
     },
     "metadata": {},
     "output_type": "display_data"
    }
   ],
   "source": [
    "#plotting the esg total score data between 2015-01-01 to 2019-12-31\n",
    "plt.figure(figsize=(10,6))\n",
    "plt.plot(esgtotalscore,label=\"ESG Total Score\")\n",
    "plt.xlabel(\"Time\")\n",
    "plt.ylabel(\"ESG Total Score\")\n",
    "plt.title(\"ESG Total Score for Exxon Mobil Corp.(XOM) between 2015-01-01 to 2019-12-31\")\n",
    "plt.legend()\n",
    "plt.show()"
   ]
  },
  {
   "cell_type": "markdown",
   "id": "1697b539",
   "metadata": {},
   "source": [
    "### 5. Calculate and Analyse the Correlation between Stock Price and ESG"
   ]
  },
  {
   "cell_type": "code",
   "execution_count": 52,
   "id": "d7e4635c",
   "metadata": {},
   "outputs": [],
   "source": [
    "correlation=data[\"Adj Close\"].corr(esgtotalscore)"
   ]
  },
  {
   "cell_type": "code",
   "execution_count": 53,
   "id": "37db01eb",
   "metadata": {},
   "outputs": [
    {
     "name": "stdout",
     "output_type": "stream",
     "text": [
      "The correlation between the log returns of Exxon Mobil Corp and ESG Rating from 2015-01-01 to 2019-12-31 is 0.0183\n"
     ]
    }
   ],
   "source": [
    "print(f\"The correlation between the log returns of Exxon Mobil Corp and ESG Rating from 2015-01-01 to 2019-12-31 is {correlation:.4f}\")"
   ]
  },
  {
   "cell_type": "code",
   "execution_count": 54,
   "id": "fe03c28b",
   "metadata": {},
   "outputs": [
    {
     "data": {
      "image/png": "[encoded data removed]",
      "text/plain": [
       "<Figure size 1000x600 with 2 Axes>"
      ]
     },
     "metadata": {},
     "output_type": "display_data"
    }
   ],
   "source": [
    "fig,ax1=plt.subplots(figsize=(10,6))\n",
    "\n",
    "#plotting XOM stock price\n",
    "color=\"tab:blue\"\n",
    "ax1.set_xlabel(\"Date\")\n",
    "ax1.set_ylabel(\"XOM\", color=color)\n",
    "ax1.plot(data[\"Adj Close\"], color=color)\n",
    "ax1.tick_params(axis=\"y\", labelcolor=color)\n",
    "\n",
    "#plotting ESG ratings\n",
    "color=\"tab:red\"\n",
    "ax2=ax1.twinx()\n",
    "ax2.set_ylabel(\"XOM\",color=color)\n",
    "ax2.plot(esgtotalscore, color= color)\n",
    "ax2.tick_params(axis=\"y\", labelcolor=color)\n",
    "\n",
    "# adding title and displaying the plot\n",
    "plt.title(\"XOM and ESG Total Score (Jan 2015- Dec 2019)\")\n",
    "plt.show()"
   ]
  },
  {
   "cell_type": "markdown",
   "id": "30b72209",
   "metadata": {},
   "source": [
    "## Question 2 : Climate Analysis Based on Birthplace"
   ]
  },
  {
   "cell_type": "markdown",
   "id": "bbe674f6",
   "metadata": {},
   "source": [
    "#### I was born in Beijing in October 2000. So I need to calculate the HDD in Beijing in October 2022. The latitude, longtitude and altitude of Beijing is 39.9042N, 116.4074E, 49m, respectively."
   ]
  },
  {
   "cell_type": "markdown",
   "id": "bfadf36c",
   "metadata": {},
   "source": [
    "#### Extracting weather data"
   ]
  },
  {
   "cell_type": "code",
   "execution_count": 95,
   "id": "c3af417f",
   "metadata": {},
   "outputs": [],
   "source": [
    "# import critical libraries\n",
    "import numpy as np\n",
    "from datetime import datetime\n",
    "import matplotlib.pyplot as plt\n",
    "from meteostat import Point, Daily"
   ]
  },
  {
   "cell_type": "code",
   "execution_count": 96,
   "id": "d080f76b",
   "metadata": {},
   "outputs": [],
   "source": [
    "#time period\n",
    "start=datetime(2022,10,1)\n",
    "end=datetime(2022,10,31)"
   ]
  },
  {
   "cell_type": "code",
   "execution_count": 97,
   "id": "44789bf0",
   "metadata": {},
   "outputs": [],
   "source": [
    "#location point (latitude,longtitude,altitude) for Beijing\n",
    "Beijing=Point(39.9042,116.4074,49)"
   ]
  },
  {
   "cell_type": "code",
   "execution_count": 98,
   "id": "b5277d63",
   "metadata": {},
   "outputs": [],
   "source": [
    "#fetch the weather data\n",
    "wdata=Daily(Beijing,start,end)\n",
    "wdata=wdata.fetch()"
   ]
  },
  {
   "cell_type": "code",
   "execution_count": 99,
   "id": "7ee0b1f0",
   "metadata": {},
   "outputs": [
    {
     "data": {
      "text/html": [
       "<div>\n",
       "<style scoped>\n",
       "    .dataframe tbody tr th:only-of-type {\n",
       "        vertical-align: middle;\n",
       "    }\n",
       "\n",
       "    .dataframe tbody tr th {\n",
       "        vertical-align: top;\n",
       "    }\n",
       "\n",
       "    .dataframe thead th {\n",
       "        text-align: right;\n",
       "    }\n",
       "</style>\n",
       "<table border=\"1\" class=\"dataframe\">\n",
       "  <thead>\n",
       "    <tr style=\"text-align: right;\">\n",
       "      <th></th>\n",
       "      <th>tavg</th>\n",
       "      <th>tmin</th>\n",
       "      <th>tmax</th>\n",
       "      <th>prcp</th>\n",
       "      <th>snow</th>\n",
       "      <th>wdir</th>\n",
       "      <th>wspd</th>\n",
       "      <th>wpgt</th>\n",
       "      <th>pres</th>\n",
       "      <th>tsun</th>\n",
       "    </tr>\n",
       "    <tr>\n",
       "      <th>time</th>\n",
       "      <th></th>\n",
       "      <th></th>\n",
       "      <th></th>\n",
       "      <th></th>\n",
       "      <th></th>\n",
       "      <th></th>\n",
       "      <th></th>\n",
       "      <th></th>\n",
       "      <th></th>\n",
       "      <th></th>\n",
       "    </tr>\n",
       "  </thead>\n",
       "  <tbody>\n",
       "    <tr>\n",
       "      <th>2022-10-01</th>\n",
       "      <td>21.9</td>\n",
       "      <td>18.0</td>\n",
       "      <td>29.4</td>\n",
       "      <td>2.3</td>\n",
       "      <td>NaN</td>\n",
       "      <td>131.0</td>\n",
       "      <td>7.1</td>\n",
       "      <td>NaN</td>\n",
       "      <td>1012.6</td>\n",
       "      <td>NaN</td>\n",
       "    </tr>\n",
       "    <tr>\n",
       "      <th>2022-10-02</th>\n",
       "      <td>19.3</td>\n",
       "      <td>17.2</td>\n",
       "      <td>24.8</td>\n",
       "      <td>3.0</td>\n",
       "      <td>NaN</td>\n",
       "      <td>54.0</td>\n",
       "      <td>5.6</td>\n",
       "      <td>NaN</td>\n",
       "      <td>1012.2</td>\n",
       "      <td>NaN</td>\n",
       "    </tr>\n",
       "    <tr>\n",
       "      <th>2022-10-03</th>\n",
       "      <td>12.4</td>\n",
       "      <td>10.0</td>\n",
       "      <td>20.5</td>\n",
       "      <td>1.5</td>\n",
       "      <td>NaN</td>\n",
       "      <td>6.0</td>\n",
       "      <td>13.2</td>\n",
       "      <td>NaN</td>\n",
       "      <td>1019.2</td>\n",
       "      <td>NaN</td>\n",
       "    </tr>\n",
       "    <tr>\n",
       "      <th>2022-10-04</th>\n",
       "      <td>8.6</td>\n",
       "      <td>4.0</td>\n",
       "      <td>20.5</td>\n",
       "      <td>0.0</td>\n",
       "      <td>NaN</td>\n",
       "      <td>11.0</td>\n",
       "      <td>11.0</td>\n",
       "      <td>NaN</td>\n",
       "      <td>1030.5</td>\n",
       "      <td>NaN</td>\n",
       "    </tr>\n",
       "    <tr>\n",
       "      <th>2022-10-05</th>\n",
       "      <td>8.8</td>\n",
       "      <td>1.0</td>\n",
       "      <td>16.7</td>\n",
       "      <td>0.0</td>\n",
       "      <td>NaN</td>\n",
       "      <td>27.0</td>\n",
       "      <td>6.3</td>\n",
       "      <td>NaN</td>\n",
       "      <td>1028.5</td>\n",
       "      <td>NaN</td>\n",
       "    </tr>\n",
       "  </tbody>\n",
       "</table>\n",
       "</div>"
      ],
      "text/plain": [
       "            tavg  tmin  tmax  prcp  snow   wdir  wspd  wpgt    pres  tsun\n",
       "time                                                                     \n",
       "2022-10-01  21.9  18.0  29.4   2.3   NaN  131.0   7.1   NaN  1012.6   NaN\n",
       "2022-10-02  19.3  17.2  24.8   3.0   NaN   54.0   5.6   NaN  1012.2   NaN\n",
       "2022-10-03  12.4  10.0  20.5   1.5   NaN    6.0  13.2   NaN  1019.2   NaN\n",
       "2022-10-04   8.6   4.0  20.5   0.0   NaN   11.0  11.0   NaN  1030.5   NaN\n",
       "2022-10-05   8.8   1.0  16.7   0.0   NaN   27.0   6.3   NaN  1028.5   NaN"
      ]
     },
     "execution_count": 99,
     "metadata": {},
     "output_type": "execute_result"
    }
   ],
   "source": [
    "#take a look at the data\n",
    "wdata.head()"
   ]
  },
  {
   "cell_type": "code",
   "execution_count": 100,
   "id": "5e602840",
   "metadata": {},
   "outputs": [
    {
     "data": {
      "image/png": "[encoded data removed]",
      "text/plain": [
       "<Figure size 640x480 with 1 Axes>"
      ]
     },
     "metadata": {},
     "output_type": "display_data"
    }
   ],
   "source": [
    "wdata.plot(y=[\"tavg\"])\n",
    "plt.show()"
   ]
  },
  {
   "cell_type": "markdown",
   "id": "e7f03745",
   "metadata": {},
   "source": [
    "#### Calculating HDD"
   ]
  },
  {
   "cell_type": "markdown",
   "id": "18761939",
   "metadata": {},
   "source": [
    "\\\\[ \\text{HDD} = \\max(18 - T_{\\text{avg}}, 0) \\\\]\n",
    "Where:\n",
    "- \\\\( T_{\\text{avg}} \\\\) is the average temperature for a day."
   ]
  },
  {
   "cell_type": "code",
   "execution_count": 102,
   "id": "5f8e3f49",
   "metadata": {},
   "outputs": [
    {
     "name": "stdout",
     "output_type": "stream",
     "text": [
      "HDD: 183.30000000000004\n"
     ]
    }
   ],
   "source": [
    "T_base=18 # set the temperature base as 18\n",
    "hdds=[max(T_base-temp,0) for temp in wdata.tavg] #daily hdd is just 18 minus daily average temperature\n",
    "HDD=sum(hdds) # HDD for this month is simply the sum of everyday's hdds\n",
    "print(\"HDD:\", HDD)"
   ]
  }
 ],
 "metadata": {
  "kernelspec": {
   "display_name": "Python 3 (ipykernel)",
   "language": "python",
   "name": "python3"
  },
  "language_info": {
   "codemirror_mode": {
    "name": "ipython",
    "version": 3
   },
   "file_extension": ".py",
   "mimetype": "text/x-python",
   "name": "python",
   "nbconvert_exporter": "python",
   "pygments_lexer": "ipython3",
   "version": "3.11.4"
  }
 },
 "nbformat": 4,
 "nbformat_minor": 5
}
